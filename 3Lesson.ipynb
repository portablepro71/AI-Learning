{
 "cells": [
  {
   "cell_type": "code",
   "execution_count": 1,
   "id": "885f1766",
   "metadata": {},
   "outputs": [],
   "source": [
    "import numpy as np\n",
    "#Dizileri dikey olarak birleştirme"
   ]
  },
  {
   "cell_type": "code",
   "execution_count": 2,
   "id": "2691c2ce",
   "metadata": {},
   "outputs": [
    {
     "data": {
      "text/plain": [
       "array([[0., 0., 0., 0., 0., 0., 0., 0., 0., 0.],\n",
       "       [0., 0., 0., 0., 0., 0., 0., 0., 0., 0.]])"
      ]
     },
     "execution_count": 2,
     "metadata": {},
     "output_type": "execute_result"
    }
   ],
   "source": [
    "a = np.zeros(20).reshape(2, -1)#Diziyi 2 satır haline getirir '-1' eşit 2 satır olması anlamına gelir\n",
    "b = np.repeat(1,20).reshape(2, -1)\n",
    "a"
   ]
  },
  {
   "cell_type": "code",
   "execution_count": 3,
   "id": "f7e3079e",
   "metadata": {},
   "outputs": [
    {
     "data": {
      "text/plain": [
       "array([[1, 1, 1, 1, 1, 1, 1, 1, 1, 1],\n",
       "       [1, 1, 1, 1, 1, 1, 1, 1, 1, 1]])"
      ]
     },
     "execution_count": 3,
     "metadata": {},
     "output_type": "execute_result"
    }
   ],
   "source": [
    "b"
   ]
  },
  {
   "cell_type": "code",
   "execution_count": 4,
   "id": "b8d4069d",
   "metadata": {},
   "outputs": [
    {
     "data": {
      "text/plain": [
       "array([[0., 0., 0., 0., 0., 0., 0., 0., 0., 0.],\n",
       "       [0., 0., 0., 0., 0., 0., 0., 0., 0., 0.],\n",
       "       [1., 1., 1., 1., 1., 1., 1., 1., 1., 1.],\n",
       "       [1., 1., 1., 1., 1., 1., 1., 1., 1., 1.]])"
      ]
     },
     "execution_count": 4,
     "metadata": {},
     "output_type": "execute_result"
    }
   ],
   "source": [
    "np.vstack([a,b])#Dikey olarak dizileri birleştirmek"
   ]
  },
  {
   "cell_type": "code",
   "execution_count": 5,
   "id": "d95c9a82",
   "metadata": {},
   "outputs": [
    {
     "data": {
      "text/plain": [
       "array([[1],\n",
       "       [2],\n",
       "       [3]])"
      ]
     },
     "execution_count": 5,
     "metadata": {},
     "output_type": "execute_result"
    }
   ],
   "source": [
    "a1 = np.array([[1],[2],[3]])\n",
    "b1 = np.array([[4],[5],[6]])\n",
    "a1"
   ]
  },
  {
   "cell_type": "code",
   "execution_count": 6,
   "id": "98149bdc",
   "metadata": {},
   "outputs": [
    {
     "data": {
      "text/plain": [
       "array([[4],\n",
       "       [5],\n",
       "       [6]])"
      ]
     },
     "execution_count": 6,
     "metadata": {},
     "output_type": "execute_result"
    }
   ],
   "source": [
    "b1"
   ]
  },
  {
   "cell_type": "code",
   "execution_count": 7,
   "id": "d51ca9d7",
   "metadata": {},
   "outputs": [
    {
     "data": {
      "text/plain": [
       "array([[1],\n",
       "       [2],\n",
       "       [3],\n",
       "       [4],\n",
       "       [5],\n",
       "       [6]])"
      ]
     },
     "execution_count": 7,
     "metadata": {},
     "output_type": "execute_result"
    }
   ],
   "source": [
    "np.vstack([a1,b1])"
   ]
  },
  {
   "cell_type": "code",
   "execution_count": 8,
   "id": "0295d52f",
   "metadata": {},
   "outputs": [],
   "source": [
    "#Dizileri yatay olarak birleştirme"
   ]
  },
  {
   "cell_type": "code",
   "execution_count": 9,
   "id": "be0d658f",
   "metadata": {},
   "outputs": [
    {
     "data": {
      "text/plain": [
       "array([[1, 4],\n",
       "       [2, 5],\n",
       "       [3, 6]])"
      ]
     },
     "execution_count": 9,
     "metadata": {},
     "output_type": "execute_result"
    }
   ],
   "source": [
    "np.hstack([a1,b1])#Yatay olarak dizileri birleştiren fonksiyon vstack ile aynı kullanım"
   ]
  },
  {
   "cell_type": "code",
   "execution_count": 10,
   "id": "949d2e45",
   "metadata": {},
   "outputs": [
    {
     "data": {
      "text/plain": [
       "array([[0., 0., 0., 0., 0., 0., 0., 0., 0., 0., 1., 1., 1., 1., 1., 1.,\n",
       "        1., 1., 1., 1.],\n",
       "       [0., 0., 0., 0., 0., 0., 0., 0., 0., 0., 1., 1., 1., 1., 1., 1.,\n",
       "        1., 1., 1., 1.]])"
      ]
     },
     "execution_count": 10,
     "metadata": {},
     "output_type": "execute_result"
    }
   ],
   "source": [
    "np.hstack([a,b])"
   ]
  },
  {
   "cell_type": "code",
   "execution_count": 11,
   "id": "38310b19",
   "metadata": {},
   "outputs": [],
   "source": [
    "c1 = np.array([10,20,30,40,50,60])\n",
    "c2 = np.array([12,20,34,49,50,65])"
   ]
  },
  {
   "cell_type": "code",
   "execution_count": 12,
   "id": "465cf2f4",
   "metadata": {},
   "outputs": [
    {
     "data": {
      "text/plain": [
       "array([20, 50])"
      ]
     },
     "execution_count": 12,
     "metadata": {},
     "output_type": "execute_result"
    }
   ],
   "source": [
    "np.intersect1d(c1,c2)#Dizilerdeki benzer elemanları bulan fonksiyon"
   ]
  },
  {
   "cell_type": "code",
   "execution_count": 13,
   "id": "41c89cec",
   "metadata": {},
   "outputs": [
    {
     "data": {
      "text/plain": [
       "array([10, 30, 40, 60])"
      ]
     },
     "execution_count": 13,
     "metadata": {},
     "output_type": "execute_result"
    }
   ],
   "source": [
    "np.setdiff1d(c1,c2)#Ortak elemanları çıkarıp geriye kalanları bulan fonksiyon"
   ]
  },
  {
   "cell_type": "code",
   "execution_count": 14,
   "id": "de341c02",
   "metadata": {},
   "outputs": [
    {
     "data": {
      "text/plain": [
       "array([21, 22, 23, 24, 25, 26, 27, 28, 29, 30, 31, 32, 33, 34])"
      ]
     },
     "execution_count": 14,
     "metadata": {},
     "output_type": "execute_result"
    }
   ],
   "source": [
    "a1 = np.arange(0,60)\n",
    "a1[np.where((a1 > 20) & (a1 < 35))]#koşul vermek"
   ]
  },
  {
   "cell_type": "code",
   "execution_count": 15,
   "id": "e0a200f6",
   "metadata": {},
   "outputs": [
    {
     "data": {
      "text/plain": [
       "array([ 0, 10, 20, 21, 22, 23, 24, 25, 26, 27, 28, 29, 30, 31, 32, 33, 34,\n",
       "       40, 50])"
      ]
     },
     "execution_count": 15,
     "metadata": {},
     "output_type": "execute_result"
    }
   ],
   "source": [
    "a1 = np.arange(0,60)\n",
    "a1[np.where((a1 > 20) & (a1 < 35) | (a1 % 10 == 0))]"
   ]
  },
  {
   "cell_type": "code",
   "execution_count": 16,
   "id": "d59c5c36",
   "metadata": {},
   "outputs": [
    {
     "data": {
      "text/plain": [
       "array([ 0, 10, 20, 21, 22, 23, 24, 25, 26, 27, 28, 29, 30, 31, 32, 33, 34,\n",
       "       40, 50])"
      ]
     },
     "execution_count": 16,
     "metadata": {},
     "output_type": "execute_result"
    }
   ],
   "source": [
    "a1[np.where(np.logical_or(np.logical_and(a1 > 20, a1 < 35),(a1 % 10 == 0)))]\n",
    "#and işareti yerine logical_and fonksiyonu kullanılabilir\n",
    "#or işareti yerine logical_or fonksiyonu kullanılabilir"
   ]
  },
  {
   "cell_type": "code",
   "execution_count": 17,
   "id": "83ff12c3",
   "metadata": {},
   "outputs": [],
   "source": [
    "#Ters alma\n",
    "a4 = np.arange(10,30)"
   ]
  },
  {
   "cell_type": "code",
   "execution_count": 18,
   "id": "f568dfa1",
   "metadata": {},
   "outputs": [
    {
     "data": {
      "text/plain": [
       "array([10, 11, 12, 13, 14, 15, 16, 17, 18, 19, 20, 21, 22, 23, 24, 25, 26,\n",
       "       27, 28, 29])"
      ]
     },
     "execution_count": 18,
     "metadata": {},
     "output_type": "execute_result"
    }
   ],
   "source": [
    "a4"
   ]
  },
  {
   "cell_type": "code",
   "execution_count": 19,
   "id": "651de87b",
   "metadata": {},
   "outputs": [
    {
     "data": {
      "text/plain": [
       "array([29, 28, 27, 26, 25, 24, 23, 22, 21, 20, 19, 18, 17, 16, 15, 14, 13,\n",
       "       12, 11, 10])"
      ]
     },
     "execution_count": 19,
     "metadata": {},
     "output_type": "execute_result"
    }
   ],
   "source": [
    "a4[::-1]"
   ]
  },
  {
   "cell_type": "code",
   "execution_count": 20,
   "id": "0c1360f2",
   "metadata": {},
   "outputs": [
    {
     "data": {
      "text/plain": [
       "array([29, 28, 27, 26, 25, 24, 23, 22, 21, 20, 19, 18, 17, 16, 15, 14, 13,\n",
       "       12, 11, 10])"
      ]
     },
     "execution_count": 20,
     "metadata": {},
     "output_type": "execute_result"
    }
   ],
   "source": [
    "np.flip(a4)#Tersini alma fonksiyonları"
   ]
  },
  {
   "cell_type": "code",
   "execution_count": 21,
   "id": "dc3aa55f",
   "metadata": {},
   "outputs": [],
   "source": [
    "a3 = np.array([[3,2,8,1],[70,80,12,31],[12,34,16,78]])"
   ]
  },
  {
   "cell_type": "code",
   "execution_count": 22,
   "id": "320cf1a4",
   "metadata": {},
   "outputs": [
    {
     "data": {
      "text/plain": [
       "array([[ 3,  2,  8,  1],\n",
       "       [70, 80, 12, 31],\n",
       "       [12, 34, 16, 78]])"
      ]
     },
     "execution_count": 22,
     "metadata": {},
     "output_type": "execute_result"
    }
   ],
   "source": [
    "a3"
   ]
  },
  {
   "cell_type": "code",
   "execution_count": 23,
   "id": "1d0eb2e9",
   "metadata": {},
   "outputs": [
    {
     "data": {
      "text/plain": [
       "array([[78, 16, 34, 12],\n",
       "       [31, 12, 80, 70],\n",
       "       [ 1,  8,  2,  3]])"
      ]
     },
     "execution_count": 23,
     "metadata": {},
     "output_type": "execute_result"
    }
   ],
   "source": [
    "np.flip(a3)"
   ]
  },
  {
   "cell_type": "code",
   "execution_count": 24,
   "id": "f0414d04",
   "metadata": {},
   "outputs": [
    {
     "data": {
      "text/plain": [
       "array([[12, 34, 16, 78],\n",
       "       [70, 80, 12, 31],\n",
       "       [ 3,  2,  8,  1]])"
      ]
     },
     "execution_count": 24,
     "metadata": {},
     "output_type": "execute_result"
    }
   ],
   "source": [
    "a3[::-1,]"
   ]
  },
  {
   "cell_type": "code",
   "execution_count": 25,
   "id": "238fd6f6",
   "metadata": {},
   "outputs": [
    {
     "data": {
      "text/plain": [
       "array([ 13,  16,  43,  51,  73, 101, 123, 148, 441])"
      ]
     },
     "execution_count": 25,
     "metadata": {},
     "output_type": "execute_result"
    }
   ],
   "source": [
    "#Sıralama\n",
    "a = np.array([43,123,441,51,13,101,16,73,148])\n",
    "np.sort(a) # artan sıralama"
   ]
  },
  {
   "cell_type": "code",
   "execution_count": 26,
   "id": "64533566",
   "metadata": {},
   "outputs": [],
   "source": [
    "b = np.sort(a)\n",
    "b = b[::-1]"
   ]
  },
  {
   "cell_type": "code",
   "execution_count": 27,
   "id": "acb9a971",
   "metadata": {},
   "outputs": [
    {
     "data": {
      "text/plain": [
       "array([441, 148, 123, 101,  73,  51,  43,  16,  13])"
      ]
     },
     "execution_count": 27,
     "metadata": {},
     "output_type": "execute_result"
    }
   ],
   "source": [
    "b"
   ]
  },
  {
   "cell_type": "code",
   "execution_count": 28,
   "id": "991d42d9",
   "metadata": {},
   "outputs": [
    {
     "data": {
      "text/plain": [
       "array([441, 148, 123, 101,  73,  51,  43,  16,  13])"
      ]
     },
     "execution_count": 28,
     "metadata": {},
     "output_type": "execute_result"
    }
   ],
   "source": [
    "c = np.sort(a)\n",
    "np.flip(c)"
   ]
  },
  {
   "cell_type": "code",
   "execution_count": 29,
   "id": "d0a9a94d",
   "metadata": {},
   "outputs": [
    {
     "data": {
      "text/plain": [
       "array([441, 148, 123, 101,  73,  51,  43,  16,  13])"
      ]
     },
     "execution_count": 29,
     "metadata": {},
     "output_type": "execute_result"
    }
   ],
   "source": [
    "a[::-1].sort()\n",
    "a"
   ]
  },
  {
   "cell_type": "code",
   "execution_count": 30,
   "id": "528218c5",
   "metadata": {},
   "outputs": [
    {
     "data": {
      "text/plain": [
       "array([[24, 29, 88],\n",
       "       [ 1,  0,  8],\n",
       "       [33,  7, 99],\n",
       "       [39, 11, 98],\n",
       "       [22, 76, 87]])"
      ]
     },
     "execution_count": 30,
     "metadata": {},
     "output_type": "execute_result"
    }
   ],
   "source": [
    "p4 = np.loadtxt('sample.txt', dtype = np.integer)\n",
    "p4"
   ]
  },
  {
   "cell_type": "code",
   "execution_count": 31,
   "id": "ac3c1838",
   "metadata": {},
   "outputs": [
    {
     "data": {
      "text/plain": [
       "array([['Dogu', 'Turkey', 'Football'],\n",
       "       ['John', 'USA', 'Hockey'],\n",
       "       ['Paul', 'Canada', 'Basketball']], dtype='<U10')"
      ]
     },
     "execution_count": 31,
     "metadata": {},
     "output_type": "execute_result"
    }
   ],
   "source": [
    "p5 = np.genfromtxt('sample0.txt', dtype='str')\n",
    "p5"
   ]
  },
  {
   "cell_type": "code",
   "execution_count": null,
   "id": "115d1d0a",
   "metadata": {},
   "outputs": [],
   "source": []
  }
 ],
 "metadata": {
  "kernelspec": {
   "display_name": "Python 3 (ipykernel)",
   "language": "python",
   "name": "python3"
  },
  "language_info": {
   "codemirror_mode": {
    "name": "ipython",
    "version": 3
   },
   "file_extension": ".py",
   "mimetype": "text/x-python",
   "name": "python",
   "nbconvert_exporter": "python",
   "pygments_lexer": "ipython3",
   "version": "3.9.12"
  }
 },
 "nbformat": 4,
 "nbformat_minor": 5
}
